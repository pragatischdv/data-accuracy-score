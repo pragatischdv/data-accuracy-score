{
  "nbformat": 4,
  "nbformat_minor": 0,
  "metadata": {
    "colab": {
      "provenance": [],
      "authorship_tag": "ABX9TyN4nt/KEJ3PkrRSS7alhMm1"
    },
    "kernelspec": {
      "name": "python3",
      "display_name": "Python 3"
    },
    "language_info": {
      "name": "python"
    }
  },
  "cells": [
    {
      "cell_type": "code",
      "execution_count": null,
      "metadata": {
        "id": "m709gYVSaNWc"
      },
      "outputs": [],
      "source": [
        "# --- 1) Clone your repo and move into it ---\n",
        "!git clone https://github.com/pragatischdv/data-accuracy-score.git\n",
        "%cd data-accuracy-score"
      ]
    },
    {
      "cell_type": "code",
      "source": [
        "from das import evaluate_das\n",
        "\n",
        "# --- 4) QUICK TEST: Classification DAS ---\n",
        "from sklearn.datasets import make_classification\n",
        "from sklearn.linear_model import LogisticRegression\n",
        "import numpy as np\n",
        "\n",
        "# make a toy dataset\n",
        "X, y = make_classification(n_samples=600, n_features=10, random_state=0)\n",
        "X_train, y_train = X[:250], y[:250]            # original train\n",
        "X_syn,   y_syn   = X[250:500], y[250:500]      # pretend: synthetic\n",
        "X_test,  y_test  = X[500:],   y[500:]          # original test\n",
        "\n",
        "res_cls = evaluate_das(\n",
        "    X_train, y_train,\n",
        "    X_syn,   y_syn,\n",
        "    X_test,  None,  # y_test not required for classification\n",
        "    task=\"classification\",\n",
        "    estimator=LogisticRegression(max_iter=2000)\n",
        ")\n",
        "print(\"CLASSIFICATION RESULT:\", res_cls)\n",
        "\n",
        "# --- 5) QUICK TEST: Regression DAS ---\n",
        "from sklearn.datasets import make_regression\n",
        "from sklearn.linear_model import LinearRegression\n",
        "\n",
        "Xr, yr = make_regression(n_samples=600, n_features=8, noise=5.0, random_state=0)\n",
        "Xr_train, yr_train = Xr[:250], yr[:250]\n",
        "Xr_syn,   yr_syn   = Xr[250:500], yr[250:500]     # pretend: synthetic\n",
        "Xr_test,  yr_test  = Xr[500:],   yr[500:]\n",
        "\n",
        "res_reg = evaluate_das(\n",
        "    Xr_train, yr_train,\n",
        "    Xr_syn,   yr_syn,\n",
        "    Xr_test,  yr_test,            # required for regression\n",
        "    task=\"regression\",\n",
        "    estimator=LinearRegression()\n",
        ")\n",
        "print(\"REGRESSION RESULT:\", res_reg)\n"
      ],
      "metadata": {
        "colab": {
          "base_uri": "https://localhost:8080/"
        },
        "id": "vTKjAl3va7Vd",
        "outputId": "d7b8c993-0424-4aac-b445-27e60c340870"
      },
      "execution_count": 2,
      "outputs": [
        {
          "output_type": "stream",
          "name": "stdout",
          "text": [
            "CLASSIFICATION RESULT: {'task': 'classification', 'estimator': 'LogisticRegression', 'das': 98.0}\n",
            "REGRESSION RESULT: {'task': 'regression', 'estimator': 'LinearRegression', 'das': 99.99393543444631, 'r2_original': 0.998930591000299, 'r2_synthetic': 0.9989911718008261}\n"
          ]
        }
      ]
    }
  ]
}